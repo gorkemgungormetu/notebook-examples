{
 "cells": [
  {
   "cell_type": "markdown",
   "metadata": {},
   "source": [
    "### Visualising ERA5 Data using Magics\n",
    "\n",
    "This very first example shows how to download ERA5 Data from the [Copernicus Climate Datastore](https://cds.climate.copernicus.eu/#!/home) \n",
    "using the [cdsapi](https://cds.climate.copernicus.eu/api-how-to), and use [Magics](https://confluence.ecmwf.int/display/MAGP/Magics) to visualise the result. "
   ]
  },
  {
   "cell_type": "code",
   "execution_count": 1,
   "metadata": {},
   "outputs": [
    {
     "name": "stderr",
     "output_type": "stream",
     "text": [
      "2024-02-23 11:37:45,858 INFO Welcome to the CDS\n",
      "2024-02-23 11:37:45,866 INFO Sending request to https://cds.climate.copernicus.eu/api/v2/resources/reanalysis-era5-pressure-levels\n",
      "2024-02-23 11:37:46,266 INFO Request is completed\n",
      "2024-02-23 11:37:46,266 INFO Downloading https://download-0016.copernicus-climate.eu/cache-compute-0016/cache/data1/adaptor.mars.internal-1706428222.4288-13078-11-1b1b05df-f931-47b0-8fe5-a186cdd89a3c.grib to t1000.grib (2M)\n",
      "2024-02-23 11:37:48,944 INFO Download rate 757.2K/s                                                                    \n"
     ]
    },
    {
     "data": {
      "text/plain": [
       "Result(content_length=2076600,content_type=application/x-grib,location=https://download-0016.copernicus-climate.eu/cache-compute-0016/cache/data1/adaptor.mars.internal-1706428222.4288-13078-11-1b1b05df-f931-47b0-8fe5-a186cdd89a3c.grib)"
      ]
     },
     "execution_count": 1,
     "metadata": {},
     "output_type": "execute_result"
    }
   ],
   "source": [
    "import cdsapi\n",
    "\n",
    "c = cdsapi.Client()\n",
    "grib = \"t1000.grib\"\n",
    "\n",
    "c.retrieve(\"reanalysis-era5-pressure-levels\",\n",
    "    {\n",
    "        \"variable\": \"temperature\",\n",
    "        \"pressure_level\": \"1000\",\n",
    "        \"product_type\": \"reanalysis\",\n",
    "        \"year\": \"2008\",\n",
    "        \"month\": \"01\",\n",
    "        \"day\": \"01\",\n",
    "        \"time\": \"12:00\",\n",
    "        \"format\": \"grib\"\n",
    "    },\n",
    "    grib\n",
    ")"
   ]
  },
  {
   "cell_type": "markdown",
   "metadata": {},
   "source": [
    "The data are now ready to be visualised. Here we use an automatic styling. Designed at ECMWF these styles adapted to the parameters to be visualised. We also add a legend and a title, to give more information about the data displayed."
   ]
  },
  {
   "cell_type": "code",
   "execution_count": 2,
   "metadata": {},
   "outputs": [
    {
     "ename": "ModuleNotFoundError",
     "evalue": "No module named 'Magics'",
     "output_type": "error",
     "traceback": [
      "\u001b[1;31m---------------------------------------------------------------------------\u001b[0m",
      "\u001b[1;31mModuleNotFoundError\u001b[0m                       Traceback (most recent call last)",
      "Cell \u001b[1;32mIn[2], line 1\u001b[0m\n\u001b[1;32m----> 1\u001b[0m \u001b[38;5;28;01mfrom\u001b[39;00m \u001b[38;5;21;01mMagics\u001b[39;00m \u001b[38;5;28;01mimport\u001b[39;00m macro \u001b[38;5;28;01mas\u001b[39;00m magics\n\u001b[0;32m      4\u001b[0m data \u001b[38;5;241m=\u001b[39m magics\u001b[38;5;241m.\u001b[39mmgrib(grib_input_file_name \u001b[38;5;241m=\u001b[39m grib)\n\u001b[0;32m      6\u001b[0m contour \u001b[38;5;241m=\u001b[39m magics\u001b[38;5;241m.\u001b[39mmcont(contour_automatic_setting \u001b[38;5;241m=\u001b[39m \u001b[38;5;124m'\u001b[39m\u001b[38;5;124mecmwf\u001b[39m\u001b[38;5;124m'\u001b[39m, \n\u001b[0;32m      7\u001b[0m                        legend\u001b[38;5;241m=\u001b[39m \u001b[38;5;28;01mTrue\u001b[39;00m)\n",
      "\u001b[1;31mModuleNotFoundError\u001b[0m: No module named 'Magics'"
     ]
    }
   ],
   "source": [
    "from Magics import macro as magics\n",
    "\n",
    "\n",
    "data = magics.mgrib(grib_input_file_name = grib)\n",
    "\n",
    "contour = magics.mcont(contour_automatic_setting = 'ecmwf', \n",
    "                       legend= True)\n",
    "\n",
    "legend = magics.mlegend(legend_display_type = 'continuous')\n",
    "title = magics.mtext()\n",
    "\n",
    "coastlines = magics.mcoast(map_grid_colour='grey', \n",
    "                           map_grid_line_style='dash')\n",
    "\n",
    "magics.plot(data, contour, coastlines, legend, title)\n"
   ]
  },
  {
   "cell_type": "code",
   "execution_count": null,
   "metadata": {},
   "outputs": [],
   "source": []
  }
 ],
 "metadata": {
  "kernelspec": {
   "display_name": "Python 3 (ipykernel)",
   "language": "python",
   "name": "python3"
  },
  "language_info": {
   "codemirror_mode": {
    "name": "ipython",
    "version": 3
   },
   "file_extension": ".py",
   "mimetype": "text/x-python",
   "name": "python",
   "nbconvert_exporter": "python",
   "pygments_lexer": "ipython3",
   "version": "3.11.4"
  }
 },
 "nbformat": 4,
 "nbformat_minor": 4
}
